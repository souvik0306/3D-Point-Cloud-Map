{
 "cells": [
  {
   "cell_type": "code",
   "execution_count": 3,
   "metadata": {},
   "outputs": [],
   "source": [
    "import open3d as o3d"
   ]
  },
  {
   "cell_type": "code",
   "execution_count": 6,
   "metadata": {},
   "outputs": [
    {
     "name": "stdout",
     "output_type": "stream",
     "text": [
      "PointCloud with 397 points.\n"
     ]
    }
   ],
   "source": [
    "import wget\n",
    "url = 'https://raw.githubusercontent.com/PointCloudLibrary/pcl/master/test/bunny.pcd'\n",
    "filename = wget.download(url)\n",
    "\n",
    "pcd = o3d.io.read_point_cloud(\"bunny.pcd\")\n",
    "print(pcd)"
   ]
  },
  {
   "cell_type": "code",
   "execution_count": 7,
   "metadata": {},
   "outputs": [
    {
     "data": {
      "text/plain": [
       "True"
      ]
     },
     "execution_count": 7,
     "metadata": {},
     "output_type": "execute_result"
    }
   ],
   "source": [
    "o3d.io.write_point_cloud(\"copy_of_bunny.pcd\", pcd)"
   ]
  },
  {
   "cell_type": "code",
   "execution_count": 1,
   "metadata": {},
   "outputs": [
    {
     "name": "stdout",
     "output_type": "stream",
     "text": [
      "Jupyter environment detected. Enabling Open3D WebVisualizer.\n",
      "[Open3D INFO] WebRTC GUI backend enabled.\n",
      "[Open3D INFO] WebRTCWindowSystem: HTTP handshake server disabled.\n"
     ]
    }
   ],
   "source": [
    "import open3d as o3d\n",
    "import numpy as np\n",
    "import PIL.Image\n",
    "import IPython.display\n",
    "import os\n",
    "import urllib\n",
    "import tarfile\n",
    "import gzip\n",
    "import zipfile\n",
    "import shutil\n",
    "\n",
    "#Download the point cloud using below command\n",
    "import wget\n",
    "url = 'http://graphics.stanford.edu/pub/3Dscanrep/bunny.tar.gz'\n",
    "# filename = wget.download(url)"
   ]
  },
  {
   "cell_type": "code",
   "execution_count": 10,
   "metadata": {},
   "outputs": [],
   "source": [
    "# bunny_path = \"Bunny Visualization\\bunny\"\n",
    "# with tarfile.open(bunny_path + \".tar.gz\") as tar:\n",
    "#             tar.extractall(path=os.path.dirname(bunny_path))"
   ]
  },
  {
   "cell_type": "code",
   "execution_count": 3,
   "metadata": {},
   "outputs": [
    {
     "data": {
      "text/plain": [
       "TriangleMesh with 35947 points and 69451 triangles."
      ]
     },
     "execution_count": 3,
     "metadata": {},
     "output_type": "execute_result"
    }
   ],
   "source": [
    "bunny_path = r\"D:\\Machine Learning Projects\\3D-Point-Cloud-Map\\Bunny Visualization\\bunny\\reconstruction\\bun_zipper.ply\"\n",
    "mesh = o3d.io.read_triangle_mesh(bunny_path)\n",
    "mesh.compute_vertex_normals()"
   ]
  },
  {
   "cell_type": "code",
   "execution_count": null,
   "metadata": {},
   "outputs": [],
   "source": [
    "mesh.compute_vertex_normals()\n",
    "o3d.visualization.draw_geometries([mesh])\n",
    "\n",
    "pcd = mesh.sample_points_uniformly(number_of_points=800)\n",
    "o3d.visualization.draw_geometries([pcd])"
   ]
  },
  {
   "cell_type": "code",
   "execution_count": null,
   "metadata": {},
   "outputs": [],
   "source": []
  }
 ],
 "metadata": {
  "kernelspec": {
   "display_name": "Python 3.9.7 64-bit",
   "language": "python",
   "name": "python3"
  },
  "language_info": {
   "codemirror_mode": {
    "name": "ipython",
    "version": 3
   },
   "file_extension": ".py",
   "mimetype": "text/x-python",
   "name": "python",
   "nbconvert_exporter": "python",
   "pygments_lexer": "ipython3",
   "version": "3.9.7"
  },
  "orig_nbformat": 4,
  "vscode": {
   "interpreter": {
    "hash": "903d28fc8095cdeaee5be616f3ebb92fafee475741240b3f05159e4f3ac8bf72"
   }
  }
 },
 "nbformat": 4,
 "nbformat_minor": 2
}
